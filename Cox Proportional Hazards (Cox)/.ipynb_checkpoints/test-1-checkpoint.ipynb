{
 "cells": [
  {
   "cell_type": "markdown",
   "id": "b4e745ffd58598aa",
   "metadata": {},
   "source": [
    "The Cox proportional-hazards model (Cox, 1972) is essentially a regression model commonly used statistical\n",
    "in medical research for investigating the association between the survival time of patients and one or\n",
    "more predictor variables.\n",
    "\n",
    "In the previous chapter (survival analysis basics), we described the basic concepts of survival analyses\n",
    "and methods for analyzing and summarizing survival data, including:\n",
    "\n",
    "the definition of hazard and survival functions,\n",
    "the construction of Kaplan-Meier survival curves for different patient groups\n",
    "the logrank test for comparing two or more survival curves\n",
    "The above mentioned methods - Kaplan-Meier curves and logrank tests - are examples of univariate analysis.\n",
    "They describe the survival according to one factor under investigation, but ignore the impact of any\n",
    "others.\n",
    "\n",
    "Additionally, Kaplan-Meier curves and logrank tests are useful only when the predictor variable is\n",
    "categorical (e.g.: treatment A vs treatment B; males vs females). They don’t work easily for quantitative\n",
    "predictors such as gene expression, weight, or age."
   ]
  },
  {
   "cell_type": "markdown",
   "id": "c0352f1e5be743c4",
   "metadata": {},
   "source": [
    "Basics of the Cox proportional hazards model\n",
    "\n",
    "The purpose of the model is to evaluate simultaneously the effect of several factors on survival. In other words, it allows us to examine how specified factors influence the rate of a particular event happening (e.g., infection, death) at a particular point in time. This rate is commonly referred as the hazard rate. Predictor variables (or factors) are usually termed covariates in the survival-analysis literature.\n",
    "\n",
    "The Cox model is expressed by the hazard function denoted by h(t). Briefly, the hazard function can be interpreted as the risk of dying at time t. It can be estimated as follow:\n",
    "\n",
    "h(t)=h0(t)×exp(b1x1+b2x2+...+bpxp)\n",
    "\n",
    "where,\n",
    "\n",
    "t represents the survival time\n",
    "h(t)is the hazard function determined by a set of p covariates (x1,x2,...,xp)\n",
    "the coefficients (b1,b2,...,bp) measure the impact (i.e., the effect size) of covariates.\n",
    "the term h0 is called the baseline hazard. It corresponds to the value of the hazard if all the xi are equal to zero (the quantity exp(0) equals 1).\n",
    "The ‘t’ in h(t) reminds us that the hazard may vary over time.\n",
    "\n",
    "The Cox model can be written as a multiple linear regression of the logarithm of the hazard on the variables xi, with the baseline hazard being an ‘intercept’ term that varies with time.\n",
    "\n",
    "The quantities exp(bi) are called hazard ratios (HR). A value of bi greater than zero, or equivalently a hazard ratio greater than one, indicates that as the value of the ith covariate increases, the event hazard increases and thus the length of survival decreases.\n",
    "\n",
    "Put another way, a hazard ratio above 1 indicates a covariate that is positively associated with the event probability, and thus negatively associated with the length of survival.\n",
    "\n",
    "In summary,\n",
    "\n",
    "HR = 1: No effect\n",
    "HR < 1: Reduction in the hazard\n",
    "HR > 1: Increase in Hazard"
   ]
  },
  {
   "cell_type": "code",
   "execution_count": null,
   "id": "initial_id",
   "metadata": {
    "collapsed": true,
    "jupyter": {
     "outputs_hidden": true
    }
   },
   "outputs": [],
   "source": []
  }
 ],
 "metadata": {
  "kernelspec": {
   "display_name": "Python 3 (ipykernel)",
   "language": "python",
   "name": "python3"
  },
  "language_info": {
   "codemirror_mode": {
    "name": "ipython",
    "version": 3
   },
   "file_extension": ".py",
   "mimetype": "text/x-python",
   "name": "python",
   "nbconvert_exporter": "python",
   "pygments_lexer": "ipython3",
   "version": "3.13.1"
  }
 },
 "nbformat": 4,
 "nbformat_minor": 5
}
