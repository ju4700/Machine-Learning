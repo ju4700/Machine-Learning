{
 "cells": [
  {
   "cell_type": "markdown",
   "id": "4cdb2007-5724-403b-bd27-ae619d102975",
   "metadata": {},
   "source": [
    "Iris flowers classification (Supervised Classification)!"
   ]
  },
  {
   "cell_type": "code",
   "id": "302536af-bf6c-4e77-8941-6256702a15b9",
   "metadata": {
    "ExecuteTime": {
     "end_time": "2025-01-27T10:26:23.869790Z",
     "start_time": "2025-01-27T10:26:23.858854Z"
    }
   },
   "source": [
    "import pandas as pd\n",
    "from sklearn.datasets import load_iris\n",
    "\n",
    "iris = load_iris()\n",
    "df = pd.read_csv('Iris.csv')\n",
    "df.head()"
   ],
   "execution_count": 22,
   "outputs": []
  },
  {
   "cell_type": "code",
   "id": "b9c7fe47-76e5-4475-9ef6-3e72b145b564",
   "metadata": {
    "ExecuteTime": {
     "end_time": "2025-01-27T10:26:24.965464Z",
     "start_time": "2025-01-27T10:26:24.961768Z"
    }
   },
   "source": [
    "#Split of Data\n",
    "from sklearn.model_selection import train_test_split\n",
    "\n",
    "x = iris.data\n",
    "y = iris.target\n",
    "\n",
    "x_train, x_test, y_train, y_test = train_test_split(x, y, test_size=0.2)"
   ],
   "execution_count": 23,
   "outputs": []
  },
  {
   "metadata": {},
   "cell_type": "markdown",
   "source": "Training data after Split. Algorithm(Logistic Regression)",
   "id": "bb824a2c54ae205e"
  },
  {
   "metadata": {
    "ExecuteTime": {
     "end_time": "2025-01-27T10:26:27.939291Z",
     "start_time": "2025-01-27T10:26:27.906001Z"
    }
   },
   "cell_type": "code",
   "source": [
    "#Trin model\n",
    "from sklearn.linear_model import LogisticRegression\n",
    "\n",
    "lr = LogisticRegression()\n",
    "lr.fit(x_train, y_train)"
   ],
   "id": "50f7d830c93ffa78",
   "execution_count": 24,
   "outputs": []
  },
  {
   "metadata": {
    "ExecuteTime": {
     "end_time": "2025-01-27T10:26:30.186759Z",
     "start_time": "2025-01-27T10:26:30.182020Z"
    }
   },
   "cell_type": "code",
   "source": [
    "#Prediction\n",
    "predict = lr.predict(x_test)\n",
    "print(predict)"
   ],
   "id": "3714d9eb2e573fd3",
   "execution_count": 25,
   "outputs": []
  },
  {
   "metadata": {
    "ExecuteTime": {
     "end_time": "2025-01-27T10:26:42.475978Z",
     "start_time": "2025-01-27T10:26:42.466972Z"
    }
   },
   "cell_type": "code",
   "source": "lr.score(x_test, y_test)",
   "id": "d6e19a22826a0253",
   "execution_count": 27,
   "outputs": []
  },
  {
   "metadata": {
    "ExecuteTime": {
     "end_time": "2025-01-27T10:26:44.039990Z",
     "start_time": "2025-01-27T10:26:44.037289Z"
    }
   },
   "cell_type": "code",
   "source": "print(lr.predict([[5.0, 3.6, 1.4, 0.2]]))\n",
   "id": "26760d649ade9405",
   "execution_count": 28,
   "outputs": []
  },
  {
   "metadata": {
    "ExecuteTime": {
     "end_time": "2025-01-27T10:27:36.057996Z",
     "start_time": "2025-01-27T10:27:36.050565Z"
    }
   },
   "cell_type": "code",
   "source": [
    "from sklearn import metrics\n",
    "\n",
    "print(metrics.classification_report(y_test, predict))"
   ],
   "id": "9141837b65e8ed5a",
   "execution_count": 29,
   "outputs": []
  },
  {
   "metadata": {
    "ExecuteTime": {
     "end_time": "2025-01-27T10:31:32.956811Z",
     "start_time": "2025-01-27T10:31:32.952943Z"
    }
   },
   "cell_type": "code",
   "source": "print(metrics.confusion_matrix(y_test, predict))",
   "id": "c6ceba9a4c6418ee",
   "execution_count": 31,
   "outputs": []
  },
  {
   "metadata": {},
   "cell_type": "markdown",
   "source": "End of Test!",
   "id": "1c26ff01de879f62"
  }
 ],
 "metadata": {
  "kernelspec": {
   "display_name": "Python 3 (ipykernel)",
   "language": "python",
   "name": "python3"
  },
  "language_info": {
   "codemirror_mode": {
    "name": "ipython",
    "version": 3
   },
   "file_extension": ".py",
   "mimetype": "text/x-python",
   "name": "python",
   "nbconvert_exporter": "python",
   "pygments_lexer": "ipython3",
   "version": "3.13.1"
  }
 },
 "nbformat": 4,
 "nbformat_minor": 5
}
