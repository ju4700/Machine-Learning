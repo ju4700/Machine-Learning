{
 "cells": [
  {
   "metadata": {},
   "cell_type": "markdown",
   "source": "IMAGE to TEXT Machine Learning Model Implementation",
   "id": "a26350f32b75b145"
  },
  {
   "metadata": {
    "ExecuteTime": {
     "end_time": "2025-01-27T12:24:40.604788Z",
     "start_time": "2025-01-27T12:24:40.124131Z"
    }
   },
   "cell_type": "code",
   "source": [
    "import struct\n",
    "import numpy as np\n",
    "import matplotlib.pyplot as plt\n",
    "\n",
    "def read_idx3_ubyte(file_path_p):\n",
    "    with open(file_path_p, 'rb') as f:\n",
    "        magic_number, num_images, num_rows, num_cols = struct.unpack(\">IIII\", f.read(16))\n",
    "        \n",
    "        if magic_number != 2051:\n",
    "            raise ValueError(\"Invalid magic number, not an IDX3 file!\")\n",
    "        \n",
    "        images = np.frombuffer(f.read(), dtype=np.uint8)\n",
    "        images = images.reshape((num_images, num_rows, num_cols))\n",
    "        \n",
    "        return images\n",
    "\n",
    "def read_idx1_ubyte(file_path_p):\n",
    "    with open(file_path_p, 'rb') as f:\n",
    "        magic_number, num_items = struct.unpack(\">II\", f.read(8))\n",
    "        if magic_number != 2049:\n",
    "            raise ValueError(\"Invalid magic number, not an IDX1 file!\")\n",
    "        labels = np.frombuffer(f.read(), dtype=np.uint8)\n",
    "        return labels\n",
    "\n",
    "label_path = \"train-labels.idx1-ubyte\"\n",
    "labels_dataset = read_idx1_ubyte(label_path)\n",
    "file_path = \"train-images.idx3-ubyte\"\n",
    "images_dataset = read_idx3_ubyte(file_path)\n",
    "\n",
    "print(f\"Number of images: {images_dataset.shape[0]}\")\n",
    "print(f\"Image dimensions: {images_dataset.shape[1]}x{images_dataset.shape[2]}\")\n",
    "print(f\"Labels: {labels_dataset.shape[0]}\")\n",
    "print(f\"Label for the {0}th image: {labels_dataset[0]}\")\n",
    "plt.title(f\"{0}th Image - Label: {labels_dataset[0]}\")"
   ],
   "id": "43f6cfe79bbc758a",
   "outputs": [
    {
     "name": "stdout",
     "output_type": "stream",
     "text": [
      "Number of images: 60000\n",
      "Image dimensions: 28x28\n",
      "Labels: 60000\n",
      "Label for the 0th image: 5\n"
     ]
    },
    {
     "data": {
      "text/plain": [
       "Text(0.5, 1.0, '0th Image - Label: 5')"
      ]
     },
     "execution_count": 1,
     "metadata": {},
     "output_type": "execute_result"
    },
    {
     "data": {
      "text/plain": [
       "<Figure size 640x480 with 1 Axes>"
      ],
      "image/png": "[encoded data removed]"
     },
     "metadata": {},
     "output_type": "display_data"
    }
   ],
   "execution_count": 1
  },
  {
   "metadata": {},
   "cell_type": "markdown",
   "source": "The Above Code is to load the data set from .IDX-ubyte",
   "id": "16affbb764f0fc9d"
  },
  {
   "metadata": {},
   "cell_type": "code",
   "source": [
    "import random\n",
    "\n",
    "xint = random.randint(0, images_dataset.shape[0])\n",
    "plt.imsave(f\"random_image_{xint}.png\", images_dataset[xint], cmap='gray')\n",
    "\n",
    "plt.imshow(images_dataset[xint], cmap='gray')\n",
    "plt.title(f\"{xint} th Image\")\n",
    "plt.show()"
   ],
   "id": "3726100acadbad69",
   "outputs": [],
   "execution_count": null
  },
  {
   "metadata": {},
   "cell_type": "code",
   "source": [
    "#Flattening the images_dataset to a 1D array to represent in Binaries.\n",
    "import pandas as pd\n",
    "\n",
    "flattened_images = images_dataset.reshape(images_dataset.shape[0], -1)\n",
    "images_show = pd.DataFrame(flattened_images)\n",
    "\n",
    "print(images_show.head())"
   ],
   "id": "9dd2b279e93fe3e3",
   "outputs": [],
   "execution_count": null
  },
  {
   "metadata": {},
   "cell_type": "code",
   "source": [
    "from sklearn.model_selection import train_test_split\n",
    "\n",
    "X = flattened_images\n",
    "Y = labels_dataset\n",
    "\n",
    "#X_train, X_test, y_train, y_test = x[:60000], x[60000:], y[:60000], y[60000:]\n",
    "X_train, X_test, Y_train, Y_test = train_test_split(X, Y, test_size=0.2, random_state=42)"
   ],
   "id": "6e0e6570313008f7",
   "outputs": [],
   "execution_count": null
  },
  {
   "metadata": {},
   "cell_type": "markdown",
   "source": "Now we will use Decision Trees for image classification",
   "id": "3914c32d3945ab3f"
  },
  {
   "metadata": {},
   "cell_type": "code",
   "source": [
    "from sklearn.tree import DecisionTreeClassifier\n",
    "from sklearn.metrics import accuracy_score, classification_report\n",
    "\n",
    "dtc = DecisionTreeClassifier(max_depth=15, random_state=42)\n",
    "dtc.fit(X_train, Y_train)"
   ],
   "id": "49c3fa32b96e252c",
   "outputs": [],
   "execution_count": null
  },
  {
   "metadata": {},
   "cell_type": "code",
   "source": [
    "y_pred = dtc.predict(X_test)\n",
    "print(y_pred)"
   ],
   "id": "68bb7a732f9e8f99",
   "outputs": [],
   "execution_count": null
  },
  {
   "metadata": {},
   "cell_type": "code",
   "source": [
    "accuracy = accuracy_score(Y_test, y_pred)\n",
    "print(f\"Decision Tree Test Accuracy: {accuracy * 100:.2f}%\")"
   ],
   "id": "11d4f53895af243",
   "outputs": [],
   "execution_count": null
  },
  {
   "metadata": {},
   "cell_type": "code",
   "source": [
    "print(\"Classification Report:\")\n",
    "print(classification_report(Y_test, y_pred))"
   ],
   "id": "1f3098ea13df654b",
   "outputs": [],
   "execution_count": null
  },
  {
   "metadata": {},
   "cell_type": "code",
   "source": [
    "from sklearn.metrics import ConfusionMatrixDisplay\n",
    "\n",
    "ConfusionMatrixDisplay.from_predictions(Y_test, y_pred, cmap='Blues')\n",
    "plt.show()"
   ],
   "id": "55f6049b4ddebea1",
   "outputs": [],
   "execution_count": null
  },
  {
   "metadata": {},
   "cell_type": "code",
   "source": [
    "plt.bar(range(flattened_images.shape[1]), dtc.feature_importances_)\n",
    "plt.title(\"Feature Importance\")\n",
    "plt.show()"
   ],
   "id": "c2d1908406190d9f",
   "outputs": [],
   "execution_count": null
  },
  {
   "metadata": {},
   "cell_type": "markdown",
   "source": "Now we will try RandomForestClassifier",
   "id": "55b6999d1fcdfbc8"
  },
  {
   "metadata": {},
   "cell_type": "code",
   "source": [
    "from sklearn.ensemble import RandomForestClassifier\n",
    "\n",
    "rfc = RandomForestClassifier(n_estimators=100, random_state=42)\n",
    "rfc.fit(X_train, Y_train)"
   ],
   "id": "253547b42f54fde7",
   "outputs": [],
   "execution_count": null
  },
  {
   "metadata": {},
   "cell_type": "code",
   "source": [
    "y_pred = rfc.predict(X_test)\n",
    "print(y_pred)"
   ],
   "id": "587e55cc758bcfe0",
   "outputs": [],
   "execution_count": null
  },
  {
   "metadata": {},
   "cell_type": "code",
   "source": "print(f\"Random Forest Accuracy: {accuracy_score(Y_test, y_pred) * 100:.2f}%\")",
   "id": "8635886250af37b8",
   "outputs": [],
   "execution_count": null
  },
  {
   "metadata": {},
   "cell_type": "code",
   "source": [
    "print(\"Classification Report After Random Forest:\")\n",
    "print(classification_report(Y_test, y_pred))"
   ],
   "id": "15a57375ed64ae48",
   "outputs": [],
   "execution_count": null
  },
  {
   "metadata": {},
   "cell_type": "code",
   "source": [
    "plt.bar(range(flattened_images.shape[1]), dtc.feature_importances_)\n",
    "plt.title(\"Feature Importance\")\n",
    "plt.show()"
   ],
   "id": "dfc7e1f5e0769b56",
   "outputs": [],
   "execution_count": null
  },
  {
   "metadata": {},
   "cell_type": "markdown",
   "source": "We have a result of 97% with the RandomForest Classifier Model & 87% with the DecisionTree Model.",
   "id": "74e0134f70a9538f"
  },
  {
   "metadata": {},
   "cell_type": "markdown",
   "source": "We will use some external images to test this model.",
   "id": "608a36224c27c313"
  },
  {
   "metadata": {},
   "cell_type": "code",
   "source": [
    "from PIL import Image\n",
    "\n",
    "im_path = \"random_image_47949.png\"\n",
    "img = Image.open(im_path).convert(\"L\")\n",
    "img = img.resize((28, 28))"
   ],
   "id": "70e2ef2906fa1543",
   "outputs": [],
   "execution_count": null
  },
  {
   "metadata": {},
   "cell_type": "code",
   "source": [
    "image_array = np.array(img).reshape(1, -1)\n",
    "\n",
    "predict_number = rfc.predict(image_array)\n",
    "print(f\"Predicted Label: {predict_number[0]}\")"
   ],
   "id": "776b5c315c1c85b0",
   "outputs": [],
   "execution_count": null
  },
  {
   "metadata": {},
   "cell_type": "code",
   "source": [
    "plt.imshow(img, cmap=\"gray\")\n",
    "plt.title(f\"Predicted Label: {predict_number[0]}\")\n",
    "plt.show()"
   ],
   "id": "3a62793efd5a6f88",
   "outputs": [],
   "execution_count": null
  },
  {
   "metadata": {},
   "cell_type": "markdown",
   "source": "The Model Successfully Predicts The Number (%)",
   "id": "5543c2c1779c10ff"
  },
  {
   "metadata": {},
   "cell_type": "code",
   "source": [
    "import joblib\n",
    "joblib.dump(dtc, 'Image-to-text/decision_tree_model.pkl')\n",
    "joblib.dump(rfc, 'randomforest_model.pkl')"
   ],
   "id": "8c77695f72d99a44",
   "outputs": [],
   "execution_count": null
  }
 ],
 "metadata": {
  "kernelspec": {
   "display_name": "Python 3",
   "language": "python",
   "name": "python3"
  },
  "language_info": {
   "codemirror_mode": {
    "name": "ipython",
    "version": 2
   },
   "file_extension": ".py",
   "mimetype": "text/x-python",
   "name": "python",
   "nbconvert_exporter": "python",
   "pygments_lexer": "ipython2",
   "version": "2.7.6"
  }
 },
 "nbformat": 4,
 "nbformat_minor": 5
}
