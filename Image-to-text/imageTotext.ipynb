{
 "cells": [
  {
   "metadata": {},
   "cell_type": "markdown",
   "source": "IMAGE to TEXT Machine Learning Model Implementation",
   "id": "a26350f32b75b145"
  },
  {
   "metadata": {
    "ExecuteTime": {
     "end_time": "2025-02-15T13:40:16.529763Z",
     "start_time": "2025-02-15T13:40:16.462816Z"
    }
   },
   "cell_type": "code",
   "source": [
    "import struct\n",
    "import numpy as np\n",
    "import matplotlib.pyplot as plt\n",
    "\n",
    "def read_idx3_ubyte(file_path_p):\n",
    "    with open(file_path_p, 'rb') as f:\n",
    "        magic_number, num_images, num_rows, num_cols = struct.unpack(\">IIII\", f.read(16))\n",
    "        \n",
    "        if magic_number != 2051:\n",
    "            raise ValueError(\"Invalid magic number, not an IDX3 file!\")\n",
    "        \n",
    "        images = np.frombuffer(f.read(), dtype=np.uint8)\n",
    "        images = images.reshape((num_images, num_rows, num_cols))\n",
    "        \n",
    "        return images\n",
    "\n",
    "def read_idx1_ubyte(file_path_p):\n",
    "    with open(file_path_p, 'rb') as f:\n",
    "        magic_number, num_items = struct.unpack(\">II\", f.read(8))\n",
    "        if magic_number != 2049:\n",
    "            raise ValueError(\"Invalid magic number, not an IDX1 file!\")\n",
    "        labels = np.frombuffer(f.read(), dtype=np.uint8)\n",
    "        return labels\n",
    "\n",
    "label_path = \"train-labels.idx1-ubyte\"\n",
    "labels_dataset = read_idx1_ubyte(label_path)\n",
    "file_path = \"train-images.idx3-ubyte\"\n",
    "images_dataset = read_idx3_ubyte(file_path)\n",
    "\n",
    "print(f\"Number of images: {images_dataset.shape[0]}\")\n",
    "print(f\"Image dimensions: {images_dataset.shape[1]}x{images_dataset.shape[2]}\")\n",
    "print(f\"Labels: {labels_dataset.shape[0]}\")\n",
    "print(f\"Label for the {0}th image: {labels_dataset[0]}\")\n",
    "plt.title(f\"{0}th Image - Label: {labels_dataset[0]}\")"
   ],
   "id": "43f6cfe79bbc758a",
   "outputs": [
    {
     "ename": "FileNotFoundError",
     "evalue": "[Errno 2] No such file or directory: 'train-labels.idx1-ubyte'",
     "output_type": "error",
     "traceback": [
      "\u001B[0;31m---------------------------------------------------------------------------\u001B[0m",
      "\u001B[0;31mFileNotFoundError\u001B[0m                         Traceback (most recent call last)",
      "Cell \u001B[0;32mIn[2], line 26\u001B[0m\n\u001B[1;32m     23\u001B[0m         \u001B[38;5;28;01mreturn\u001B[39;00m labels\n\u001B[1;32m     25\u001B[0m label_path \u001B[38;5;241m=\u001B[39m \u001B[38;5;124m\"\u001B[39m\u001B[38;5;124mtrain-labels.idx1-ubyte\u001B[39m\u001B[38;5;124m\"\u001B[39m\n\u001B[0;32m---> 26\u001B[0m labels_dataset \u001B[38;5;241m=\u001B[39m \u001B[43mread_idx1_ubyte\u001B[49m\u001B[43m(\u001B[49m\u001B[43mlabel_path\u001B[49m\u001B[43m)\u001B[49m\n\u001B[1;32m     27\u001B[0m file_path \u001B[38;5;241m=\u001B[39m \u001B[38;5;124m\"\u001B[39m\u001B[38;5;124mtrain-images.idx3-ubyte\u001B[39m\u001B[38;5;124m\"\u001B[39m\n\u001B[1;32m     28\u001B[0m images_dataset \u001B[38;5;241m=\u001B[39m read_idx3_ubyte(file_path)\n",
      "Cell \u001B[0;32mIn[2], line 18\u001B[0m, in \u001B[0;36mread_idx1_ubyte\u001B[0;34m(file_path_p)\u001B[0m\n\u001B[1;32m     17\u001B[0m \u001B[38;5;28;01mdef\u001B[39;00m\u001B[38;5;250m \u001B[39m\u001B[38;5;21mread_idx1_ubyte\u001B[39m(file_path_p):\n\u001B[0;32m---> 18\u001B[0m     \u001B[38;5;28;01mwith\u001B[39;00m \u001B[38;5;28;43mopen\u001B[39;49m\u001B[43m(\u001B[49m\u001B[43mfile_path_p\u001B[49m\u001B[43m,\u001B[49m\u001B[43m \u001B[49m\u001B[38;5;124;43m'\u001B[39;49m\u001B[38;5;124;43mrb\u001B[39;49m\u001B[38;5;124;43m'\u001B[39;49m\u001B[43m)\u001B[49m \u001B[38;5;28;01mas\u001B[39;00m f:\n\u001B[1;32m     19\u001B[0m         magic_number, num_items \u001B[38;5;241m=\u001B[39m struct\u001B[38;5;241m.\u001B[39munpack(\u001B[38;5;124m\"\u001B[39m\u001B[38;5;124m>II\u001B[39m\u001B[38;5;124m\"\u001B[39m, f\u001B[38;5;241m.\u001B[39mread(\u001B[38;5;241m8\u001B[39m))\n\u001B[1;32m     20\u001B[0m         \u001B[38;5;28;01mif\u001B[39;00m magic_number \u001B[38;5;241m!=\u001B[39m \u001B[38;5;241m2049\u001B[39m:\n",
      "File \u001B[0;32m~/Documents/Pyhton-Main/Machine Learning/.venv/lib/python3.13/site-packages/IPython/core/interactiveshell.py:324\u001B[0m, in \u001B[0;36m_modified_open\u001B[0;34m(file, *args, **kwargs)\u001B[0m\n\u001B[1;32m    317\u001B[0m \u001B[38;5;28;01mif\u001B[39;00m file \u001B[38;5;129;01min\u001B[39;00m {\u001B[38;5;241m0\u001B[39m, \u001B[38;5;241m1\u001B[39m, \u001B[38;5;241m2\u001B[39m}:\n\u001B[1;32m    318\u001B[0m     \u001B[38;5;28;01mraise\u001B[39;00m \u001B[38;5;167;01mValueError\u001B[39;00m(\n\u001B[1;32m    319\u001B[0m         \u001B[38;5;124mf\u001B[39m\u001B[38;5;124m\"\u001B[39m\u001B[38;5;124mIPython won\u001B[39m\u001B[38;5;124m'\u001B[39m\u001B[38;5;124mt let you open fd=\u001B[39m\u001B[38;5;132;01m{\u001B[39;00mfile\u001B[38;5;132;01m}\u001B[39;00m\u001B[38;5;124m by default \u001B[39m\u001B[38;5;124m\"\u001B[39m\n\u001B[1;32m    320\u001B[0m         \u001B[38;5;124m\"\u001B[39m\u001B[38;5;124mas it is likely to crash IPython. If you know what you are doing, \u001B[39m\u001B[38;5;124m\"\u001B[39m\n\u001B[1;32m    321\u001B[0m         \u001B[38;5;124m\"\u001B[39m\u001B[38;5;124myou can use builtins\u001B[39m\u001B[38;5;124m'\u001B[39m\u001B[38;5;124m open.\u001B[39m\u001B[38;5;124m\"\u001B[39m\n\u001B[1;32m    322\u001B[0m     )\n\u001B[0;32m--> 324\u001B[0m \u001B[38;5;28;01mreturn\u001B[39;00m \u001B[43mio_open\u001B[49m\u001B[43m(\u001B[49m\u001B[43mfile\u001B[49m\u001B[43m,\u001B[49m\u001B[43m \u001B[49m\u001B[38;5;241;43m*\u001B[39;49m\u001B[43margs\u001B[49m\u001B[43m,\u001B[49m\u001B[43m \u001B[49m\u001B[38;5;241;43m*\u001B[39;49m\u001B[38;5;241;43m*\u001B[39;49m\u001B[43mkwargs\u001B[49m\u001B[43m)\u001B[49m\n",
      "\u001B[0;31mFileNotFoundError\u001B[0m: [Errno 2] No such file or directory: 'train-labels.idx1-ubyte'"
     ]
    }
   ],
   "execution_count": 2
  },
  {
   "metadata": {},
   "cell_type": "markdown",
   "source": "The Above Code is to load the data set from .IDX-ubyte",
   "id": "16affbb764f0fc9d"
  },
  {
   "metadata": {},
   "cell_type": "code",
   "source": [
    "import random\n",
    "\n",
    "xint = random.randint(0, images_dataset.shape[0])\n",
    "plt.imsave(f\"random_image_{xint}.png\", images_dataset[xint], cmap='gray')\n",
    "\n",
    "plt.imshow(images_dataset[xint], cmap='gray')\n",
    "plt.title(f\"{xint} th Image\")\n",
    "plt.show()"
   ],
   "id": "3726100acadbad69",
   "outputs": [],
   "execution_count": null
  },
  {
   "metadata": {},
   "cell_type": "code",
   "source": [
    "#Flattening the images_dataset to a 1D array to represent in Binaries.\n",
    "import pandas as pd\n",
    "\n",
    "flattened_images = images_dataset.reshape(images_dataset.shape[0], -1)\n",
    "images_show = pd.DataFrame(flattened_images)\n",
    "\n",
    "print(images_show.head())"
   ],
   "id": "9dd2b279e93fe3e3",
   "outputs": [],
   "execution_count": null
  },
  {
   "metadata": {},
   "cell_type": "code",
   "source": [
    "from sklearn.model_selection import train_test_split\n",
    "\n",
    "X = flattened_images\n",
    "Y = labels_dataset\n",
    "\n",
    "#X_train, X_test, y_train, y_test = x[:60000], x[60000:], y[:60000], y[60000:]\n",
    "X_train, X_test, Y_train, Y_test = train_test_split(X, Y, test_size=0.2, random_state=42)"
   ],
   "id": "6e0e6570313008f7",
   "outputs": [],
   "execution_count": null
  },
  {
   "metadata": {},
   "cell_type": "markdown",
   "source": "Now we will use Decision Trees for image classification",
   "id": "3914c32d3945ab3f"
  },
  {
   "metadata": {},
   "cell_type": "code",
   "source": [
    "from sklearn.tree import DecisionTreeClassifier\n",
    "from sklearn.metrics import accuracy_score, classification_report\n",
    "\n",
    "dtc = DecisionTreeClassifier(max_depth=15, random_state=42)\n",
    "dtc.fit(X_train, Y_train)"
   ],
   "id": "49c3fa32b96e252c",
   "outputs": [],
   "execution_count": null
  },
  {
   "metadata": {},
   "cell_type": "code",
   "source": [
    "y_pred = dtc.predict(X_test)\n",
    "print(y_pred)"
   ],
   "id": "68bb7a732f9e8f99",
   "outputs": [],
   "execution_count": null
  },
  {
   "metadata": {},
   "cell_type": "code",
   "source": [
    "accuracy = accuracy_score(Y_test, y_pred)\n",
    "print(f\"Decision Tree Test Accuracy: {accuracy * 100:.2f}%\")"
   ],
   "id": "11d4f53895af243",
   "outputs": [],
   "execution_count": null
  },
  {
   "metadata": {},
   "cell_type": "code",
   "source": [
    "print(\"Classification Report:\")\n",
    "print(classification_report(Y_test, y_pred))"
   ],
   "id": "1f3098ea13df654b",
   "outputs": [],
   "execution_count": null
  },
  {
   "metadata": {},
   "cell_type": "code",
   "source": [
    "from sklearn.metrics import ConfusionMatrixDisplay\n",
    "\n",
    "ConfusionMatrixDisplay.from_predictions(Y_test, y_pred, cmap='Blues')\n",
    "plt.show()"
   ],
   "id": "55f6049b4ddebea1",
   "outputs": [],
   "execution_count": null
  },
  {
   "metadata": {},
   "cell_type": "code",
   "source": [
    "plt.bar(range(flattened_images.shape[1]), dtc.feature_importances_)\n",
    "plt.title(\"Feature Importance\")\n",
    "plt.show()"
   ],
   "id": "c2d1908406190d9f",
   "outputs": [],
   "execution_count": null
  },
  {
   "metadata": {},
   "cell_type": "markdown",
   "source": "Now we will try RandomForestClassifier",
   "id": "55b6999d1fcdfbc8"
  },
  {
   "metadata": {},
   "cell_type": "code",
   "source": [
    "from sklearn.ensemble import RandomForestClassifier\n",
    "\n",
    "rfc = RandomForestClassifier(n_estimators=100, random_state=42)\n",
    "rfc.fit(X_train, Y_train)"
   ],
   "id": "253547b42f54fde7",
   "outputs": [],
   "execution_count": null
  },
  {
   "metadata": {},
   "cell_type": "code",
   "source": [
    "y_pred = rfc.predict(X_test)\n",
    "print(y_pred)"
   ],
   "id": "587e55cc758bcfe0",
   "outputs": [],
   "execution_count": null
  },
  {
   "metadata": {},
   "cell_type": "code",
   "source": "print(f\"Random Forest Accuracy: {accuracy_score(Y_test, y_pred) * 100:.2f}%\")",
   "id": "8635886250af37b8",
   "outputs": [],
   "execution_count": null
  },
  {
   "metadata": {},
   "cell_type": "code",
   "source": [
    "print(\"Classification Report After Random Forest:\")\n",
    "print(classification_report(Y_test, y_pred))"
   ],
   "id": "15a57375ed64ae48",
   "outputs": [],
   "execution_count": null
  },
  {
   "metadata": {},
   "cell_type": "code",
   "source": [
    "plt.bar(range(flattened_images.shape[1]), dtc.feature_importances_)\n",
    "plt.title(\"Feature Importance\")\n",
    "plt.show()"
   ],
   "id": "dfc7e1f5e0769b56",
   "outputs": [],
   "execution_count": null
  },
  {
   "metadata": {},
   "cell_type": "markdown",
   "source": "We have a result of 97% with the RandomForest Classifier Model & 87% with the DecisionTree Model.",
   "id": "74e0134f70a9538f"
  },
  {
   "metadata": {},
   "cell_type": "markdown",
   "source": "We will use some external images to test this model.",
   "id": "608a36224c27c313"
  },
  {
   "metadata": {},
   "cell_type": "code",
   "source": [
    "from PIL import Image\n",
    "\n",
    "im_path = \"random_image_47949.png\"\n",
    "img = Image.open(im_path).convert(\"L\")\n",
    "img = img.resize((28, 28))"
   ],
   "id": "70e2ef2906fa1543",
   "outputs": [],
   "execution_count": null
  },
  {
   "metadata": {},
   "cell_type": "code",
   "source": [
    "image_array = np.array(img).reshape(1, -1)\n",
    "\n",
    "predict_number = rfc.predict(image_array)\n",
    "print(f\"Predicted Label: {predict_number[0]}\")"
   ],
   "id": "776b5c315c1c85b0",
   "outputs": [],
   "execution_count": null
  },
  {
   "metadata": {},
   "cell_type": "code",
   "source": [
    "plt.imshow(img, cmap=\"gray\")\n",
    "plt.title(f\"Predicted Label: {predict_number[0]}\")\n",
    "plt.show()"
   ],
   "id": "3a62793efd5a6f88",
   "outputs": [],
   "execution_count": null
  },
  {
   "metadata": {},
   "cell_type": "markdown",
   "source": "The Model Successfully Predicts The Number (%)",
   "id": "5543c2c1779c10ff"
  },
  {
   "metadata": {},
   "cell_type": "code",
   "source": [
    "import joblib\n",
    "joblib.dump(dtc, 'Image-to-text/decision_tree_model.pkl')\n",
    "joblib.dump(rfc, 'randomforest_model.pkl')"
   ],
   "id": "8c77695f72d99a44",
   "outputs": [],
   "execution_count": null
  }
 ],
 "metadata": {
  "kernelspec": {
   "display_name": "Python 3",
   "language": "python",
   "name": "python3"
  },
  "language_info": {
   "codemirror_mode": {
    "name": "ipython",
    "version": 2
   },
   "file_extension": ".py",
   "mimetype": "text/x-python",
   "name": "python",
   "nbconvert_exporter": "python",
   "pygments_lexer": "ipython2",
   "version": "2.7.6"
  }
 },
 "nbformat": 4,
 "nbformat_minor": 5
}
