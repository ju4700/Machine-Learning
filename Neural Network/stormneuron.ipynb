{
 "cells": [
  {
   "metadata": {},
   "cell_type": "markdown",
   "source": "Neural Network from Scratch",
   "id": "81d56dce56b72d46"
  },
  {
   "cell_type": "code",
   "id": "initial_id",
   "metadata": {
    "collapsed": true,
    "ExecuteTime": {
     "end_time": "2025-01-28T18:39:33.785852Z",
     "start_time": "2025-01-28T18:39:33.780989Z"
    }
   },
   "source": [
    "def predict(dark_clouds, temperature_drop):\n",
    "    storm = 0\n",
    "    if dark_clouds == 1 and temperature_drop == 1:\n",
    "        storm = 1\n",
    "    return storm\n",
    " \n",
    "print(predict(1, 1))\n",
    "print(predict(1, 0))\n",
    "print(predict(0, 1))\n",
    "print(predict(0, 0))"
   ],
   "execution_count": 1,
   "outputs": []
  },
  {
   "metadata": {
    "ExecuteTime": {
     "end_time": "2025-01-28T18:45:30.763317Z",
     "start_time": "2025-01-28T18:45:30.758373Z"
    }
   },
   "cell_type": "code",
   "source": [
    "class Neuron:\n",
    "    def __init__(self):\n",
    "        self.w1 = 2\n",
    "        self.w2 = 0.5\n",
    "\n",
    "    def predict(self, dark_clouds, temperature_drop):\n",
    "        storm = 0\n",
    "        if (dark_clouds*self.w1 + temperature_drop*self.w2) > 1:\n",
    "            storm = 1\n",
    "        return storm\n",
    "\n",
    "neuron = Neuron()\n",
    "print(neuron.predict(1, 1))\n",
    "print(neuron.predict(1, 0))\n",
    "print(neuron.predict(0, 1))\n",
    "print(neuron.predict(0, 0))"
   ],
   "id": "b7ea6a33b3f30d73",
   "execution_count": 2,
   "outputs": []
  },
  {
   "metadata": {
    "ExecuteTime": {
     "end_time": "2025-01-28T18:45:33.008664Z",
     "start_time": "2025-01-28T18:45:33.005209Z"
    }
   },
   "cell_type": "code",
   "source": [
    "import random\n",
    "\n",
    "class Neuron:\n",
    "    def __init__(self):\n",
    "        self.w1 = random.random()\n",
    "        self.w2 = random.random()\n",
    "        \n",
    "    def predict(self, dark_clouds, temperature_drop):\n",
    "        storm = 0\n",
    "        if (dark_clouds*self.w1 + temperature_drop*self.w2) > 1:\n",
    "            storm = 1\n",
    "        return storm\n",
    "    \n",
    "    def learn(self, dark_clouds, temperature_drop, storm):\n",
    "        error = self.predict(dark_clouds, temperature_drop) - storm\n",
    "        self.w1 -= error * dark_clouds / 100\n",
    "        self.w2 -= error * temperature_drop / 100"
   ],
   "id": "4b8bc6df7d4a2fa9",
   "execution_count": 3,
   "outputs": []
  },
  {
   "metadata": {
    "ExecuteTime": {
     "end_time": "2025-01-28T18:45:33.957274Z",
     "start_time": "2025-01-28T18:45:33.954779Z"
    }
   },
   "cell_type": "code",
   "source": [
    "# while True:\n",
    "#     if (neuron.predict(1, 1) == 1 and\n",
    "#             neuron.predict(1, 0) == 0 and\n",
    "#             neuron.predict(0, 1) == 0 and\n",
    "#             neuron.predict(0, 0) == 0):\n",
    "#         break\n",
    "# \n",
    "#     neuron.learn(1, 1, 1)\n",
    "#     neuron.learn(1, 0, 0)\n",
    "#     neuron.learn(0, 1, 0)\n",
    "#     neuron.learn(0, 0, 0)\n",
    "# \n",
    "# print(neuron.predict(1, 1))\n",
    "# print(neuron.predict(1, 0))\n",
    "# print(neuron.predict(0, 1))\n",
    "# print(neuron.predict(0, 0))"
   ],
   "id": "1a180828e43afb6",
   "execution_count": 4,
   "outputs": []
  },
  {
   "metadata": {
    "ExecuteTime": {
     "end_time": "2025-01-28T18:45:34.840278Z",
     "start_time": "2025-01-28T18:45:34.834755Z"
    }
   },
   "cell_type": "code",
   "source": [
    "data = [[1, 1, 1],\n",
    "        [1, 0, 0],\n",
    "        [0, 1, 0],\n",
    "        [0, 0, 0]]\n",
    "\n",
    "def runTraining(neuron):\n",
    "    for row in data:\n",
    "        neuron.learn(row[0], row[1], row[2])\n",
    "\n",
    "def runTesting(neuron):\n",
    "    return [neuron.predict(row[0], row[1]) for row in data]\n",
    "\n",
    "neuron = Neuron()\n",
    "while True:\n",
    "    output = runTesting(neuron)\n",
    "    print(output)\n",
    "    if output == [row[2] for row in data]:\n",
    "        break\n",
    "\n",
    "    runTraining(neuron)"
   ],
   "id": "9147d8ff744ce31c",
   "execution_count": 5,
   "outputs": []
  },
  {
   "metadata": {
    "ExecuteTime": {
     "end_time": "2025-01-28T18:45:36.194993Z",
     "start_time": "2025-01-28T18:45:36.189335Z"
    }
   },
   "cell_type": "code",
   "source": [
    "class Neuron:\n",
    "    def __init__(self):\n",
    "        self.w1 = random.random()\n",
    "        self.w2 = random.random()\n",
    "        self.t = random.random()\n",
    "\n",
    "    def predict(self, dark_clouds, temperature_drop):\n",
    "        storm = 0\n",
    "        if (dark_clouds*self.w1 + temperature_drop*self.w2) > self.t:\n",
    "            storm = 1\n",
    "        return storm\n",
    "\n",
    "    def learn(self, dark_clouds, temperature_drop, storm):\n",
    "        error = self.predict(dark_clouds, temperature_drop) - storm\n",
    "        self.w1 -= error * dark_clouds / 100\n",
    "        self.w2 -= error * temperature_drop / 100\n",
    "        self.t += error / 100\n",
    "\n",
    "data = [[1, 1, 1],\n",
    "        [1, 0, 1],\n",
    "        [0, 1, 1],\n",
    "        [0, 0, 1]]\n",
    "\n",
    "def runTraining(neuron):\n",
    "    for row in data:\n",
    "        neuron.learn(row[0], row[1], row[2])\n",
    "\n",
    "def runTesting(neuron):\n",
    "    return [neuron.predict(row[0], row[1]) for row in data]\n",
    "\n",
    "neuron = Neuron()\n",
    "while True:\n",
    "    output = runTesting(neuron)\n",
    "    print(output)\n",
    "    if output == [row[2] for row in data]:\n",
    "        break\n",
    "\n",
    "    runTraining(neuron)"
   ],
   "id": "f1f32edd01345759",
   "execution_count": 6,
   "outputs": []
  }
 ],
 "metadata": {
  "kernelspec": {
   "display_name": "Python 3",
   "language": "python",
   "name": "python3"
  },
  "language_info": {
   "codemirror_mode": {
    "name": "ipython",
    "version": 2
   },
   "file_extension": ".py",
   "mimetype": "text/x-python",
   "name": "python",
   "nbconvert_exporter": "python",
   "pygments_lexer": "ipython2",
   "version": "2.7.6"
  }
 },
 "nbformat": 4,
 "nbformat_minor": 5
}
